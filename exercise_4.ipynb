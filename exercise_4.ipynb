{
  "cells": [
    {
      "cell_type": "markdown",
      "metadata": {
        "id": "view-in-github",
        "colab_type": "text"
      },
      "source": [
        "<a href=\"https://colab.research.google.com/github/robitussin/CCDATS1L_EXERCISES/blob/main/exercise_4.ipynb\" target=\"_parent\"><img src=\"https://colab.research.google.com/assets/colab-badge.svg\" alt=\"Open In Colab\"/></a>"
      ]
    },
    {
      "cell_type": "markdown",
      "metadata": {
        "id": "B_-syGI0pinE"
      },
      "source": [
        "# Exercise 4\n",
        "\n",
        "Visualing the titanic data set\n",
        "\n",
        "One of the classic public datasets used to demonstrate binary classification is the titanic dataset which lists 891 of the the passengers aboard the RMS Titanic when it sank on April 15, 1912.\n",
        "\n",
        "The dataset includes the name of each passenger as well as other information such as the fare class, the fare price, the person's age and gender, and whether that person survived the sinking of the ship.\n",
        "\n",
        "\n",
        "<img src=\"data:image/jpeg;base64,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\"/>"
      ]
    },
    {
      "cell_type": "code",
      "execution_count": null,
      "metadata": {
        "id": "nYkkgjJ2pinG"
      },
      "outputs": [],
      "source": [
        "import pandas as pd\n",
        "import seaborn as sns\n",
        "import matplotlib.pyplot as plt\n",
        "\n",
        "from seaborn import load_dataset\n"
      ]
    },
    {
      "cell_type": "code",
      "execution_count": null,
      "metadata": {
        "id": "xv2gg_q3pinI"
      },
      "outputs": [],
      "source": [
        "df = load_dataset(\"titanic\")"
      ]
    },
    {
      "cell_type": "code",
      "execution_count": null,
      "metadata": {
        "id": "hDsVRniFfj0o",
        "outputId": "53dc6824-47a6-4fdf-9da2-9fc8ef3c037c"
      },
      "outputs": [
        {
          "data": {
            "text/html": [
              "<div>\n",
              "<style scoped>\n",
              "    .dataframe tbody tr th:only-of-type {\n",
              "        vertical-align: middle;\n",
              "    }\n",
              "\n",
              "    .dataframe tbody tr th {\n",
              "        vertical-align: top;\n",
              "    }\n",
              "\n",
              "    .dataframe thead th {\n",
              "        text-align: right;\n",
              "    }\n",
              "</style>\n",
              "<table border=\"1\" class=\"dataframe\">\n",
              "  <thead>\n",
              "    <tr style=\"text-align: right;\">\n",
              "      <th></th>\n",
              "      <th>survived</th>\n",
              "      <th>pclass</th>\n",
              "      <th>sex</th>\n",
              "      <th>age</th>\n",
              "      <th>sibsp</th>\n",
              "      <th>parch</th>\n",
              "      <th>fare</th>\n",
              "      <th>embarked</th>\n",
              "      <th>class</th>\n",
              "      <th>who</th>\n",
              "      <th>adult_male</th>\n",
              "      <th>deck</th>\n",
              "      <th>embark_town</th>\n",
              "      <th>alive</th>\n",
              "      <th>alone</th>\n",
              "    </tr>\n",
              "  </thead>\n",
              "  <tbody>\n",
              "    <tr>\n",
              "      <th>0</th>\n",
              "      <td>0</td>\n",
              "      <td>3</td>\n",
              "      <td>male</td>\n",
              "      <td>22.0</td>\n",
              "      <td>1</td>\n",
              "      <td>0</td>\n",
              "      <td>7.2500</td>\n",
              "      <td>S</td>\n",
              "      <td>Third</td>\n",
              "      <td>man</td>\n",
              "      <td>True</td>\n",
              "      <td>NaN</td>\n",
              "      <td>Southampton</td>\n",
              "      <td>no</td>\n",
              "      <td>False</td>\n",
              "    </tr>\n",
              "    <tr>\n",
              "      <th>1</th>\n",
              "      <td>1</td>\n",
              "      <td>1</td>\n",
              "      <td>female</td>\n",
              "      <td>38.0</td>\n",
              "      <td>1</td>\n",
              "      <td>0</td>\n",
              "      <td>71.2833</td>\n",
              "      <td>C</td>\n",
              "      <td>First</td>\n",
              "      <td>woman</td>\n",
              "      <td>False</td>\n",
              "      <td>C</td>\n",
              "      <td>Cherbourg</td>\n",
              "      <td>yes</td>\n",
              "      <td>False</td>\n",
              "    </tr>\n",
              "    <tr>\n",
              "      <th>2</th>\n",
              "      <td>1</td>\n",
              "      <td>3</td>\n",
              "      <td>female</td>\n",
              "      <td>26.0</td>\n",
              "      <td>0</td>\n",
              "      <td>0</td>\n",
              "      <td>7.9250</td>\n",
              "      <td>S</td>\n",
              "      <td>Third</td>\n",
              "      <td>woman</td>\n",
              "      <td>False</td>\n",
              "      <td>NaN</td>\n",
              "      <td>Southampton</td>\n",
              "      <td>yes</td>\n",
              "      <td>True</td>\n",
              "    </tr>\n",
              "    <tr>\n",
              "      <th>3</th>\n",
              "      <td>1</td>\n",
              "      <td>1</td>\n",
              "      <td>female</td>\n",
              "      <td>35.0</td>\n",
              "      <td>1</td>\n",
              "      <td>0</td>\n",
              "      <td>53.1000</td>\n",
              "      <td>S</td>\n",
              "      <td>First</td>\n",
              "      <td>woman</td>\n",
              "      <td>False</td>\n",
              "      <td>C</td>\n",
              "      <td>Southampton</td>\n",
              "      <td>yes</td>\n",
              "      <td>False</td>\n",
              "    </tr>\n",
              "    <tr>\n",
              "      <th>4</th>\n",
              "      <td>0</td>\n",
              "      <td>3</td>\n",
              "      <td>male</td>\n",
              "      <td>35.0</td>\n",
              "      <td>0</td>\n",
              "      <td>0</td>\n",
              "      <td>8.0500</td>\n",
              "      <td>S</td>\n",
              "      <td>Third</td>\n",
              "      <td>man</td>\n",
              "      <td>True</td>\n",
              "      <td>NaN</td>\n",
              "      <td>Southampton</td>\n",
              "      <td>no</td>\n",
              "      <td>True</td>\n",
              "    </tr>\n",
              "  </tbody>\n",
              "</table>\n",
              "</div>"
            ],
            "text/plain": [
              "   survived  pclass     sex   age  sibsp  parch     fare embarked  class   \n",
              "0         0       3    male  22.0      1      0   7.2500        S  Third  \\\n",
              "1         1       1  female  38.0      1      0  71.2833        C  First   \n",
              "2         1       3  female  26.0      0      0   7.9250        S  Third   \n",
              "3         1       1  female  35.0      1      0  53.1000        S  First   \n",
              "4         0       3    male  35.0      0      0   8.0500        S  Third   \n",
              "\n",
              "     who  adult_male deck  embark_town alive  alone  \n",
              "0    man        True  NaN  Southampton    no  False  \n",
              "1  woman       False    C    Cherbourg   yes  False  \n",
              "2  woman       False  NaN  Southampton   yes   True  \n",
              "3  woman       False    C  Southampton   yes  False  \n",
              "4    man        True  NaN  Southampton    no   True  "
            ]
          },
          "execution_count": 164,
          "metadata": {},
          "output_type": "execute_result"
        }
      ],
      "source": [
        "df.head()"
      ]
    },
    {
      "cell_type": "code",
      "execution_count": null,
      "metadata": {
        "id": "czUmKYNlfj0p",
        "outputId": "7f56d93d-e657-463f-c0e3-c1a88a000844"
      },
      "outputs": [
        {
          "data": {
            "text/html": [
              "<div>\n",
              "<style scoped>\n",
              "    .dataframe tbody tr th:only-of-type {\n",
              "        vertical-align: middle;\n",
              "    }\n",
              "\n",
              "    .dataframe tbody tr th {\n",
              "        vertical-align: top;\n",
              "    }\n",
              "\n",
              "    .dataframe thead th {\n",
              "        text-align: right;\n",
              "    }\n",
              "</style>\n",
              "<table border=\"1\" class=\"dataframe\">\n",
              "  <thead>\n",
              "    <tr style=\"text-align: right;\">\n",
              "      <th></th>\n",
              "      <th>survived</th>\n",
              "      <th>pclass</th>\n",
              "      <th>age</th>\n",
              "      <th>sibsp</th>\n",
              "      <th>parch</th>\n",
              "      <th>fare</th>\n",
              "    </tr>\n",
              "  </thead>\n",
              "  <tbody>\n",
              "    <tr>\n",
              "      <th>count</th>\n",
              "      <td>891.000000</td>\n",
              "      <td>891.000000</td>\n",
              "      <td>714.000000</td>\n",
              "      <td>891.000000</td>\n",
              "      <td>891.000000</td>\n",
              "      <td>891.000000</td>\n",
              "    </tr>\n",
              "    <tr>\n",
              "      <th>mean</th>\n",
              "      <td>0.383838</td>\n",
              "      <td>2.308642</td>\n",
              "      <td>29.699118</td>\n",
              "      <td>0.523008</td>\n",
              "      <td>0.381594</td>\n",
              "      <td>32.204208</td>\n",
              "    </tr>\n",
              "    <tr>\n",
              "      <th>std</th>\n",
              "      <td>0.486592</td>\n",
              "      <td>0.836071</td>\n",
              "      <td>14.526497</td>\n",
              "      <td>1.102743</td>\n",
              "      <td>0.806057</td>\n",
              "      <td>49.693429</td>\n",
              "    </tr>\n",
              "    <tr>\n",
              "      <th>min</th>\n",
              "      <td>0.000000</td>\n",
              "      <td>1.000000</td>\n",
              "      <td>0.420000</td>\n",
              "      <td>0.000000</td>\n",
              "      <td>0.000000</td>\n",
              "      <td>0.000000</td>\n",
              "    </tr>\n",
              "    <tr>\n",
              "      <th>25%</th>\n",
              "      <td>0.000000</td>\n",
              "      <td>2.000000</td>\n",
              "      <td>20.125000</td>\n",
              "      <td>0.000000</td>\n",
              "      <td>0.000000</td>\n",
              "      <td>7.910400</td>\n",
              "    </tr>\n",
              "    <tr>\n",
              "      <th>50%</th>\n",
              "      <td>0.000000</td>\n",
              "      <td>3.000000</td>\n",
              "      <td>28.000000</td>\n",
              "      <td>0.000000</td>\n",
              "      <td>0.000000</td>\n",
              "      <td>14.454200</td>\n",
              "    </tr>\n",
              "    <tr>\n",
              "      <th>75%</th>\n",
              "      <td>1.000000</td>\n",
              "      <td>3.000000</td>\n",
              "      <td>38.000000</td>\n",
              "      <td>1.000000</td>\n",
              "      <td>0.000000</td>\n",
              "      <td>31.000000</td>\n",
              "    </tr>\n",
              "    <tr>\n",
              "      <th>max</th>\n",
              "      <td>1.000000</td>\n",
              "      <td>3.000000</td>\n",
              "      <td>80.000000</td>\n",
              "      <td>8.000000</td>\n",
              "      <td>6.000000</td>\n",
              "      <td>512.329200</td>\n",
              "    </tr>\n",
              "  </tbody>\n",
              "</table>\n",
              "</div>"
            ],
            "text/plain": [
              "         survived      pclass         age       sibsp       parch        fare\n",
              "count  891.000000  891.000000  714.000000  891.000000  891.000000  891.000000\n",
              "mean     0.383838    2.308642   29.699118    0.523008    0.381594   32.204208\n",
              "std      0.486592    0.836071   14.526497    1.102743    0.806057   49.693429\n",
              "min      0.000000    1.000000    0.420000    0.000000    0.000000    0.000000\n",
              "25%      0.000000    2.000000   20.125000    0.000000    0.000000    7.910400\n",
              "50%      0.000000    3.000000   28.000000    0.000000    0.000000   14.454200\n",
              "75%      1.000000    3.000000   38.000000    1.000000    0.000000   31.000000\n",
              "max      1.000000    3.000000   80.000000    8.000000    6.000000  512.329200"
            ]
          },
          "execution_count": 165,
          "metadata": {},
          "output_type": "execute_result"
        }
      ],
      "source": [
        "df.describe()"
      ]
    },
    {
      "cell_type": "code",
      "execution_count": null,
      "metadata": {
        "id": "26DKGMTYfj0p",
        "outputId": "aee947ba-106d-4172-eab3-27a178364aeb"
      },
      "outputs": [
        {
          "name": "stdout",
          "output_type": "stream",
          "text": [
            "<class 'pandas.core.frame.DataFrame'>\n",
            "RangeIndex: 891 entries, 0 to 890\n",
            "Data columns (total 15 columns):\n",
            " #   Column       Non-Null Count  Dtype   \n",
            "---  ------       --------------  -----   \n",
            " 0   survived     891 non-null    int64   \n",
            " 1   pclass       891 non-null    int64   \n",
            " 2   sex          891 non-null    object  \n",
            " 3   age          714 non-null    float64 \n",
            " 4   sibsp        891 non-null    int64   \n",
            " 5   parch        891 non-null    int64   \n",
            " 6   fare         891 non-null    float64 \n",
            " 7   embarked     889 non-null    object  \n",
            " 8   class        891 non-null    category\n",
            " 9   who          891 non-null    object  \n",
            " 10  adult_male   891 non-null    bool    \n",
            " 11  deck         203 non-null    category\n",
            " 12  embark_town  889 non-null    object  \n",
            " 13  alive        891 non-null    object  \n",
            " 14  alone        891 non-null    bool    \n",
            "dtypes: bool(2), category(2), float64(2), int64(4), object(5)\n",
            "memory usage: 80.7+ KB\n"
          ]
        }
      ],
      "source": [
        "df.info()"
      ]
    },
    {
      "cell_type": "code",
      "execution_count": null,
      "metadata": {
        "id": "-4FKjlDufj0p",
        "outputId": "201eb03c-25c4-410b-c811-8bc42120e851"
      },
      "outputs": [
        {
          "data": {
            "text/plain": [
              "survived         0\n",
              "pclass           0\n",
              "sex              0\n",
              "age            177\n",
              "sibsp            0\n",
              "parch            0\n",
              "fare             0\n",
              "embarked         2\n",
              "class            0\n",
              "who              0\n",
              "adult_male       0\n",
              "deck           688\n",
              "embark_town      2\n",
              "alive            0\n",
              "alone            0\n",
              "dtype: int64"
            ]
          },
          "execution_count": 167,
          "metadata": {},
          "output_type": "execute_result"
        }
      ],
      "source": [
        "df.isnull().sum()"
      ]
    },
    {
      "cell_type": "code",
      "execution_count": null,
      "metadata": {
        "id": "E_M_whw1fj0p",
        "outputId": "c016f0f0-6659-4d72-ac72-15930855bd89"
      },
      "outputs": [
        {
          "data": {
            "text/html": [
              "<div>\n",
              "<style scoped>\n",
              "    .dataframe tbody tr th:only-of-type {\n",
              "        vertical-align: middle;\n",
              "    }\n",
              "\n",
              "    .dataframe tbody tr th {\n",
              "        vertical-align: top;\n",
              "    }\n",
              "\n",
              "    .dataframe thead th {\n",
              "        text-align: right;\n",
              "    }\n",
              "</style>\n",
              "<table border=\"1\" class=\"dataframe\">\n",
              "  <thead>\n",
              "    <tr style=\"text-align: right;\">\n",
              "      <th></th>\n",
              "      <th>survived</th>\n",
              "      <th>pclass</th>\n",
              "      <th>sex</th>\n",
              "      <th>age</th>\n",
              "      <th>sibsp</th>\n",
              "      <th>parch</th>\n",
              "      <th>fare</th>\n",
              "      <th>embarked</th>\n",
              "      <th>class</th>\n",
              "      <th>who</th>\n",
              "      <th>adult_male</th>\n",
              "      <th>embark_town</th>\n",
              "      <th>alive</th>\n",
              "      <th>alone</th>\n",
              "    </tr>\n",
              "  </thead>\n",
              "  <tbody>\n",
              "    <tr>\n",
              "      <th>0</th>\n",
              "      <td>0</td>\n",
              "      <td>3</td>\n",
              "      <td>male</td>\n",
              "      <td>22.0</td>\n",
              "      <td>1</td>\n",
              "      <td>0</td>\n",
              "      <td>7.2500</td>\n",
              "      <td>S</td>\n",
              "      <td>Third</td>\n",
              "      <td>man</td>\n",
              "      <td>True</td>\n",
              "      <td>Southampton</td>\n",
              "      <td>no</td>\n",
              "      <td>False</td>\n",
              "    </tr>\n",
              "    <tr>\n",
              "      <th>1</th>\n",
              "      <td>1</td>\n",
              "      <td>1</td>\n",
              "      <td>female</td>\n",
              "      <td>38.0</td>\n",
              "      <td>1</td>\n",
              "      <td>0</td>\n",
              "      <td>71.2833</td>\n",
              "      <td>C</td>\n",
              "      <td>First</td>\n",
              "      <td>woman</td>\n",
              "      <td>False</td>\n",
              "      <td>Cherbourg</td>\n",
              "      <td>yes</td>\n",
              "      <td>False</td>\n",
              "    </tr>\n",
              "    <tr>\n",
              "      <th>2</th>\n",
              "      <td>1</td>\n",
              "      <td>3</td>\n",
              "      <td>female</td>\n",
              "      <td>26.0</td>\n",
              "      <td>0</td>\n",
              "      <td>0</td>\n",
              "      <td>7.9250</td>\n",
              "      <td>S</td>\n",
              "      <td>Third</td>\n",
              "      <td>woman</td>\n",
              "      <td>False</td>\n",
              "      <td>Southampton</td>\n",
              "      <td>yes</td>\n",
              "      <td>True</td>\n",
              "    </tr>\n",
              "    <tr>\n",
              "      <th>3</th>\n",
              "      <td>1</td>\n",
              "      <td>1</td>\n",
              "      <td>female</td>\n",
              "      <td>35.0</td>\n",
              "      <td>1</td>\n",
              "      <td>0</td>\n",
              "      <td>53.1000</td>\n",
              "      <td>S</td>\n",
              "      <td>First</td>\n",
              "      <td>woman</td>\n",
              "      <td>False</td>\n",
              "      <td>Southampton</td>\n",
              "      <td>yes</td>\n",
              "      <td>False</td>\n",
              "    </tr>\n",
              "    <tr>\n",
              "      <th>4</th>\n",
              "      <td>0</td>\n",
              "      <td>3</td>\n",
              "      <td>male</td>\n",
              "      <td>35.0</td>\n",
              "      <td>0</td>\n",
              "      <td>0</td>\n",
              "      <td>8.0500</td>\n",
              "      <td>S</td>\n",
              "      <td>Third</td>\n",
              "      <td>man</td>\n",
              "      <td>True</td>\n",
              "      <td>Southampton</td>\n",
              "      <td>no</td>\n",
              "      <td>True</td>\n",
              "    </tr>\n",
              "  </tbody>\n",
              "</table>\n",
              "</div>"
            ],
            "text/plain": [
              "   survived  pclass     sex   age  sibsp  parch     fare embarked  class   \n",
              "0         0       3    male  22.0      1      0   7.2500        S  Third  \\\n",
              "1         1       1  female  38.0      1      0  71.2833        C  First   \n",
              "2         1       3  female  26.0      0      0   7.9250        S  Third   \n",
              "3         1       1  female  35.0      1      0  53.1000        S  First   \n",
              "4         0       3    male  35.0      0      0   8.0500        S  Third   \n",
              "\n",
              "     who  adult_male  embark_town alive  alone  \n",
              "0    man        True  Southampton    no  False  \n",
              "1  woman       False    Cherbourg   yes  False  \n",
              "2  woman       False  Southampton   yes   True  \n",
              "3  woman       False  Southampton   yes  False  \n",
              "4    man        True  Southampton    no   True  "
            ]
          },
          "execution_count": 168,
          "metadata": {},
          "output_type": "execute_result"
        }
      ],
      "source": [
        "df.drop(['deck'], axis=1, inplace=True)\n",
        "df.head()"
      ]
    },
    {
      "cell_type": "code",
      "execution_count": null,
      "metadata": {
        "id": "bdACZOZ2fj0q",
        "outputId": "73851762-f442-4f19-ee08-b046a2bd74f9"
      },
      "outputs": [
        {
          "data": {
            "text/plain": [
              "survived\n",
              "0    549\n",
              "1    342\n",
              "Name: survived, dtype: int64"
            ]
          },
          "execution_count": 169,
          "metadata": {},
          "output_type": "execute_result"
        }
      ],
      "source": [
        "survived_count = df.groupby('survived')['survived'].count()\n",
        "survived_count"
      ]
    },
    {
      "cell_type": "markdown",
      "metadata": {
        "id": "Lu2FwkL0fj0q"
      },
      "source": [
        "#### 1. Using `plt.hist()`, display the distribution of ages of all the passengers who were aboard in the titanic\n",
        "\n",
        "- the horizontal x-axis should be  from 0-80 years old\n",
        "- the vertical y-axis should be from 0-40 years old"
      ]
    },
    {
      "cell_type": "code",
      "execution_count": null,
      "metadata": {
        "id": "wrArKRuwfj0q"
      },
      "outputs": [],
      "source": [
        "# put your answer here"
      ]
    },
    {
      "cell_type": "markdown",
      "metadata": {
        "id": "Rf8cj3Vgfj0q"
      },
      "source": [
        "#### 2. Using the survived count variable, use `plt.bar()` to create a barplot to display the number of people who **survived** and **did not survive**.\n",
        "\n",
        "- the horizontal x-axis should have two bars, **not survived** and **survived**\n",
        "- the vertical y-axis should be the number of passengers who survived and did not survive"
      ]
    },
    {
      "cell_type": "code",
      "execution_count": null,
      "metadata": {
        "id": "2GoBfsUKfj0q"
      },
      "outputs": [],
      "source": [
        "# put your answer here"
      ]
    },
    {
      "cell_type": "code",
      "execution_count": null,
      "metadata": {
        "id": "GGh2jlTAfj0q",
        "outputId": "7758e8c9-7624-4b2a-f8b2-cc6fd441a816"
      },
      "outputs": [
        {
          "data": {
            "text/plain": [
              "pclass\n",
              "1    216\n",
              "2    184\n",
              "3    491\n",
              "Name: pclass, dtype: int64"
            ]
          },
          "execution_count": 172,
          "metadata": {},
          "output_type": "execute_result"
        }
      ],
      "source": [
        "pclass_count = df.groupby('pclass')['pclass'].count()\n",
        "pclass_count"
      ]
    },
    {
      "cell_type": "markdown",
      "metadata": {
        "id": "tby11aiYfj0q"
      },
      "source": [
        "#### 3. Using the **pclass_count** variable, use `plt.pie()` to create a piechart to display the percentage of passengers who are in **class 1**, **class 2** and **class 3**\n",
        "\n",
        "- The pie chart should have three labels, class 1, class 2 and class 3."
      ]
    },
    {
      "cell_type": "code",
      "execution_count": null,
      "metadata": {
        "id": "9zOaQpsdfj0r"
      },
      "outputs": [],
      "source": [
        "# put your answer here"
      ]
    },
    {
      "cell_type": "code",
      "execution_count": null,
      "metadata": {
        "id": "dzNNNyF2fj0r",
        "outputId": "eb9168e9-b891-4152-ff63-f64352903707"
      },
      "outputs": [
        {
          "data": {
            "text/plain": [
              "sex\n",
              "female    314\n",
              "male      577\n",
              "Name: sex, dtype: int64"
            ]
          },
          "execution_count": 174,
          "metadata": {},
          "output_type": "execute_result"
        }
      ],
      "source": [
        "sex_count = df.groupby('sex')['sex'].count()\n",
        "sex_count"
      ]
    },
    {
      "cell_type": "markdown",
      "metadata": {
        "id": "1-3iDY0Nfj0r"
      },
      "source": [
        "#### 4. Using the **sex_count** variable, use `plt.pie()` to create a piechart to display the percentage of passengers who are **male** and **female**\n",
        "\n",
        "- The pie chart should have two labels, **male** and **female**."
      ]
    },
    {
      "cell_type": "code",
      "execution_count": null,
      "metadata": {
        "id": "0yjqauv_fj0r"
      },
      "outputs": [],
      "source": [
        "# put your answer here"
      ]
    },
    {
      "cell_type": "code",
      "execution_count": null,
      "metadata": {
        "id": "Sq6I5Keqfj0r",
        "outputId": "b52df234-cce6-4c1f-fc3a-ae71a3e2889d"
      },
      "outputs": [
        {
          "data": {
            "text/plain": [
              "embark_town\n",
              "Cherbourg      168\n",
              "Queenstown      77\n",
              "Southampton    644\n",
              "Name: embark_town, dtype: int64"
            ]
          },
          "execution_count": 176,
          "metadata": {},
          "output_type": "execute_result"
        }
      ],
      "source": [
        "embark_count = df.groupby('embark_town')['embark_town'].count()\n",
        "embark_count"
      ]
    },
    {
      "cell_type": "markdown",
      "metadata": {
        "id": "zqmiqVjufj0r"
      },
      "source": [
        "#### 5. Using the **embark_count** variable, use `plt.pie()` to create a piechart to display the percentage of passengers who came from **Cherbourg**, **Queenstown** and **Southampton**\n",
        "\n",
        "- The pie chart should have three labels, **Cherbourg**, **Queenstown** and **Southampton**."
      ]
    },
    {
      "cell_type": "code",
      "execution_count": null,
      "metadata": {
        "id": "LZY-kHCPfj0r"
      },
      "outputs": [],
      "source": [
        "# put your answer here"
      ]
    },
    {
      "cell_type": "code",
      "execution_count": null,
      "metadata": {
        "id": "4KlthZMNfj0r"
      },
      "outputs": [],
      "source": [
        "survived_sex = df.groupby('sex')['survived'].sum()"
      ]
    },
    {
      "cell_type": "markdown",
      "metadata": {
        "id": "ihb_9oY3fj0r"
      },
      "source": [
        "#### 6. Using the **survived_sex** variable, use `plt.bar()` to create a barchart to display the number of male and female survivors.\n",
        "\n",
        "- the horizontal x-axis should have two bars, **male** and **female**\n",
        "- the vertical y-axis should be the number of survivors who are either male or female."
      ]
    },
    {
      "cell_type": "code",
      "execution_count": null,
      "metadata": {
        "id": "o80z5GJqfj0r"
      },
      "outputs": [],
      "source": [
        "# put your answer here"
      ]
    }
  ],
  "metadata": {
    "colab": {
      "provenance": [],
      "include_colab_link": true
    },
    "kernelspec": {
      "display_name": "Python 3",
      "language": "python",
      "name": "python3"
    },
    "language_info": {
      "codemirror_mode": {
        "name": "ipython",
        "version": 3
      },
      "file_extension": ".py",
      "mimetype": "text/x-python",
      "name": "python",
      "nbconvert_exporter": "python",
      "pygments_lexer": "ipython3",
      "version": "3.9.13"
    }
  },
  "nbformat": 4,
  "nbformat_minor": 0
}