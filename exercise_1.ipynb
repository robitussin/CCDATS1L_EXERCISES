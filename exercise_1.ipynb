{
  "nbformat": 4,
  "nbformat_minor": 0,
  "metadata": {
    "colab": {
      "provenance": [],
      "collapsed_sections": [
        "DKVjMPyB2TaJ",
        "wy1NZOp49iC7",
        "xlFYHSIYCTT3"
      ],
      "authorship_tag": "ABX9TyMB8jxper5bvwGGrgsHn3Nx",
      "include_colab_link": true
    },
    "kernelspec": {
      "name": "python3",
      "display_name": "Python 3"
    },
    "language_info": {
      "name": "python"
    }
  },
  "cells": [
    {
      "cell_type": "markdown",
      "metadata": {
        "id": "view-in-github",
        "colab_type": "text"
      },
      "source": [
        "<a href=\"https://colab.research.google.com/github/robitussin/CCDATS1L_EXERCISES/blob/main/exercise_1.ipynb\" target=\"_parent\"><img src=\"https://colab.research.google.com/assets/colab-badge.svg\" alt=\"Open In Colab\"/></a>"
      ]
    },
    {
      "cell_type": "markdown",
      "source": [
        "# Exercise 1\n",
        "\n",
        "Please follow the instructions for each number"
      ],
      "metadata": {
        "id": "KdbulXu6s8v0"
      }
    },
    {
      "cell_type": "markdown",
      "source": [
        "## Lists"
      ],
      "metadata": {
        "id": "DKVjMPyB2TaJ"
      }
    },
    {
      "cell_type": "markdown",
      "source": [
        "1. Create a list of lists. Use the three lists below\n",
        "\n",
        "  list1 = [orange, banana]\n",
        "\n",
        "  list2 = [1, 2]\n",
        "\n",
        "  list3 = [True, False]\n",
        "\n",
        "  -----------------------------\n",
        "\n",
        "  **Expected output:**\n",
        "\n",
        "  [[\"orange\", \"banana\"], [1, 2], [True, False]]"
      ],
      "metadata": {
        "id": "2kSgRWVFtAot"
      }
    },
    {
      "cell_type": "code",
      "execution_count": 46,
      "metadata": {
        "id": "dlHNQj0Zs7gT"
      },
      "outputs": [],
      "source": [
        "# Put your answer here"
      ]
    },
    {
      "cell_type": "markdown",
      "source": [
        "2. Remove all strings in the list\n",
        "\n",
        "  mylist = [\"A\", 1, \"B\", 10, \"C\", 100, \"D\"]\n",
        "\n",
        "  ----------------------------\n",
        "\n",
        "  **Expected output**:\n",
        "   \n",
        "  [1, 10, 100]"
      ],
      "metadata": {
        "id": "ClYtcLoK3RrX"
      }
    },
    {
      "cell_type": "code",
      "source": [
        "# Put your answer here"
      ],
      "metadata": {
        "id": "dKgTNDlz4G7l"
      },
      "execution_count": 47,
      "outputs": []
    },
    {
      "cell_type": "markdown",
      "source": [
        "3. Create a list that will contain the combination of each element in list1 and list2\n",
        "\n",
        "  list1 = [\"DA\", \"SCI\"]\n",
        "\n",
        "  list2 = [\"TA\", \"ENCE\"]\n",
        "\n",
        "  ----------------------------\n",
        "\n",
        "  **Expected output:**\n",
        "\n",
        "  ['DATA', 'SCIENCE']"
      ],
      "metadata": {
        "id": "g0UBXXSG4un9"
      }
    },
    {
      "cell_type": "code",
      "source": [
        "# Put your answer here"
      ],
      "metadata": {
        "id": "HBZ6liCD8LTS"
      },
      "execution_count": 48,
      "outputs": []
    },
    {
      "cell_type": "markdown",
      "source": [
        "4. Remove empty strings in the list\n",
        "\n",
        "  list1 = [\"I\", \"\", \"LOVE\", \"DATA\", \"\", \"SCIENCE\"]\n",
        "\n",
        "  -----------------------\n",
        "\n",
        "  **Expected output:**\n",
        "\n",
        "  [\"I\", \"LOVE\", \"DATA\", \"SCIENCE\"]"
      ],
      "metadata": {
        "id": "03G2IFty6WCn"
      }
    },
    {
      "cell_type": "code",
      "source": [
        "# Put your answer here"
      ],
      "metadata": {
        "id": "8N2rGftt7Ljr"
      },
      "execution_count": 49,
      "outputs": []
    },
    {
      "cell_type": "markdown",
      "source": [
        "5. Using list comprehension, create a new list that will only contain the prime numbers in the given list\n",
        "\n",
        "  list1 = [1, 2, 3, 4, 5, 6, 7, 8, 9, 10]\n",
        "\n",
        "  -----------------------------\n",
        "\n",
        "  **Expected output:**\n",
        "  \n",
        "  [2, 3, 5, 7]"
      ],
      "metadata": {
        "id": "wuqBS0Vg7JPw"
      }
    },
    {
      "cell_type": "code",
      "source": [
        "# Put your answer here"
      ],
      "metadata": {
        "id": "XoykVs457JkE"
      },
      "execution_count": 50,
      "outputs": []
    },
    {
      "cell_type": "markdown",
      "source": [],
      "metadata": {
        "id": "-lR1qX1a9g0S"
      }
    },
    {
      "cell_type": "markdown",
      "source": [
        "## Tuples"
      ],
      "metadata": {
        "id": "wy1NZOp49iC7"
      }
    },
    {
      "cell_type": "markdown",
      "source": [
        "1. Print the value \"National University\" in the nested tuple.\n",
        "\n",
        "  mytuple = (\"Manila\", [19, 00, \"National University\"], (25, 8, 2023))\n",
        "\n",
        "  --------------------------------\n",
        "\n",
        "  **Expected output:**\n",
        "\n",
        "  National University\n"
      ],
      "metadata": {
        "id": "ldovi4eh9jdF"
      }
    },
    {
      "cell_type": "code",
      "source": [
        "# Put your answer here\n",
        "mytuple = (\"Manila\", [19, 00, \"National University\"], (25, 8, 2023))\n",
        "mytuple[1][2]"
      ],
      "metadata": {
        "colab": {
          "base_uri": "https://localhost:8080/",
          "height": 36
        },
        "id": "6BM4qMEV98l1",
        "outputId": "caec0be9-3d97-4742-8e31-a1c42dad58db"
      },
      "execution_count": 51,
      "outputs": [
        {
          "output_type": "execute_result",
          "data": {
            "text/plain": [
              "'National University'"
            ],
            "application/vnd.google.colaboratory.intrinsic+json": {
              "type": "string"
            }
          },
          "metadata": {},
          "execution_count": 51
        }
      ]
    },
    {
      "cell_type": "markdown",
      "source": [
        "2. Given this tuple\n",
        "\n",
        "  mytuple = (1, 2, 3, 4, 5)\n",
        "\n",
        "  Unpack the following tuple into five variables and display the value of each variable.\n",
        "\n",
        "  --------------------------------\n",
        "\n",
        "  **Expected output:**\n",
        "\n",
        "  print(a) # should print 1\n",
        "\n",
        "  print(b) # should print 2\n",
        "\n",
        "  print(c) # should print 3\n",
        "\n",
        "  print(d) # should print 4\n",
        "\n",
        "  print(d) # should print 5"
      ],
      "metadata": {
        "id": "WumP_Ic4-22c"
      }
    },
    {
      "cell_type": "code",
      "source": [
        "# Put your answer here"
      ],
      "metadata": {
        "id": "aTUeI4uw_X9H"
      },
      "execution_count": null,
      "outputs": []
    },
    {
      "cell_type": "markdown",
      "source": [
        "3. Given this tuple\n",
        "\n",
        "  mytuple = (1, 2, 3, 4, 5, 6, 7, 8, 9, 10)\n",
        "\n",
        "  Use range indexing/slicing to create a new tuple that will only contain the numbers 6 to 10\n",
        "\n",
        "  --------------------------------\n",
        "\n",
        "  **Expected output:**\n",
        "\n",
        "  print(newtuple)\n",
        "\n",
        "  (6, 7, 8, 9, 10)"
      ],
      "metadata": {
        "id": "yXX3t_Xt_mQu"
      }
    },
    {
      "cell_type": "code",
      "source": [
        "# Put your answer here"
      ],
      "metadata": {
        "id": "_o6TDiOZ_mkB"
      },
      "execution_count": null,
      "outputs": []
    },
    {
      "cell_type": "markdown",
      "source": [
        "4. Given this tuple\n",
        "\n",
        "  mytuple = (\"NU\", \"NU\", 55, \"i love data science!\", False, \"NU\", 23)\n",
        "\n",
        "  Count the number of occurrences of the word \"NU\"\n",
        "\n",
        "  --------------------------------\n",
        "\n",
        "  **Expected output:**\n",
        "\n",
        "  3"
      ],
      "metadata": {
        "id": "D-VxNmfJAgi2"
      }
    },
    {
      "cell_type": "code",
      "source": [
        "# Put your answer here"
      ],
      "metadata": {
        "id": "7z66oeBSAg2d"
      },
      "execution_count": null,
      "outputs": []
    },
    {
      "cell_type": "markdown",
      "source": [
        "5. Given this tuple of tuples\n",
        "\n",
        "  mytuple = (('A', 2),('B', 1),('C', 4), ('D', 3))\n",
        "\n",
        "  Sort mytuple by the second item of each inner tuple\n",
        "\n",
        "  --------------------------------\n",
        "\n",
        "  **Expected output:**\n",
        "\n",
        " (('B', 1),('A', 2),('D', 3), ('C', 4))\n",
        "\n"
      ],
      "metadata": {
        "id": "X59cGUyuA6no"
      }
    },
    {
      "cell_type": "code",
      "source": [
        "# Put your answer here"
      ],
      "metadata": {
        "id": "QdLPtKRhA67A"
      },
      "execution_count": null,
      "outputs": []
    },
    {
      "cell_type": "markdown",
      "source": [
        "# Set"
      ],
      "metadata": {
        "id": "xlFYHSIYCTT3"
      }
    },
    {
      "cell_type": "markdown",
      "source": [
        "1. Given this set and list\n",
        "\n",
        "  myset = {\"A\", \"B\", \"C\"}\n",
        "\n",
        "  mylist = [\"D\", \"E\", \"F\"]\n",
        "\n",
        "  Insert all items in the list into the set\n",
        "\n",
        "  --------------------------------\n",
        "\n",
        "  **Expected output:**\n",
        "\n",
        "  {\"A\", \"B\", \"C\", \"D\", \"E\" , \"F\"}\n",
        "\n",
        "  Note: The order does not matter"
      ],
      "metadata": {
        "id": "31-KYrN_CXF-"
      }
    },
    {
      "cell_type": "code",
      "source": [
        "# Put your answer here"
      ],
      "metadata": {
        "id": "LebVfecMCVrm"
      },
      "execution_count": null,
      "outputs": []
    },
    {
      "cell_type": "markdown",
      "source": [
        "2. Use a function to create a new set that will only contain unique items from both sets.\n",
        "\n",
        "  set1 = {\"A\", \"B\", \"C\"}\n",
        "\n",
        "  set2 = {\"C\", \"B\", \"D\"}\n",
        "\n",
        "  --------------------------------\n",
        "\n",
        "  **Expected output:**\n",
        "\n",
        "  {\"A\", \"B\", \"C\", \"D\"}\n",
        "\n",
        "  Note: The order does not matter"
      ],
      "metadata": {
        "id": "mC-vQoLXDCEk"
      }
    },
    {
      "cell_type": "code",
      "source": [
        "# Put your answer here"
      ],
      "metadata": {
        "id": "nxMD_diQDCSJ"
      },
      "execution_count": null,
      "outputs": []
    },
    {
      "cell_type": "markdown",
      "source": [
        "3. Given two sets, use a function to update **set1** with items that only appears in **set1** but not in **set2**.\n",
        "\n",
        "  set1 = {1, 2, 3, 4, 5}\n",
        "\n",
        "  set2 = {2, 3, 4}\n",
        "\n",
        "  --------------------------------\n",
        "\n",
        "  **Expected output:**\n",
        "\n",
        "  {1, 5}\n",
        "\n",
        "  Note: The order does not matter"
      ],
      "metadata": {
        "id": "vo1unYAjD7PC"
      }
    },
    {
      "cell_type": "code",
      "source": [
        "# Put your answer here"
      ],
      "metadata": {
        "id": "V5JILO_oD7io"
      },
      "execution_count": null,
      "outputs": []
    },
    {
      "cell_type": "markdown",
      "source": [
        "4. Given the two sets\n",
        "\n",
        "  set1 = {1, 2, 3, 4, 5}\n",
        "\n",
        "  set2 = {6 ,7, 8, 2, 5}\n",
        "\n",
        "  Use a function to create a new set that will only contain common items from set1 and set2\n",
        "\n",
        "  --------------------------------\n",
        "\n",
        "  **Expected output:**\n",
        "\n",
        "  {2, 5}\n",
        "\n",
        "  Note: The order does not matter\n",
        "\n",
        "\n"
      ],
      "metadata": {
        "id": "UD24DfUYEyqK"
      }
    },
    {
      "cell_type": "code",
      "source": [
        "# Put your answer here"
      ],
      "metadata": {
        "id": "jZXbbssNFAdT"
      },
      "execution_count": null,
      "outputs": []
    },
    {
      "cell_type": "markdown",
      "source": [
        "5. Given the two sets\n",
        "\n",
        "  set1 = {\"APPLE\", \"BANANA\" , \"MANGO\", \"DRAGONFRUIT\"}\n",
        "\n",
        "  set2 = {\"APPLE\", \"GUAVA\", \"CORN\", \"DRAGONFRUIT\"}\n",
        "\n",
        "  Remove items from set1 that are not common to both set1 and set2\n",
        "\n",
        "  --------------------------------\n",
        "\n",
        "  **Expected output:**\n",
        "\n",
        "  {\"APPLE\", \"DRAGONFRUIT\"}\n",
        "\n",
        "  Note: The order does not matter\n",
        "\n"
      ],
      "metadata": {
        "id": "J4rt3u9yGQk6"
      }
    },
    {
      "cell_type": "code",
      "source": [
        "# Put your answer here"
      ],
      "metadata": {
        "id": "jS1ptbx3GQ4o"
      },
      "execution_count": null,
      "outputs": []
    },
    {
      "cell_type": "markdown",
      "source": [
        "# Dictionary"
      ],
      "metadata": {
        "id": "S5qYFrqhJYh_"
      }
    },
    {
      "cell_type": "markdown",
      "source": [
        "1. Given the two lists below\n",
        "\n",
        "  keyslist = ['001', '002', '003']\n",
        "\n",
        "  valueslist = ['RED', 'BLUE', 'GREEN']\n",
        "\n",
        "  Use the **zip()** function to convert them into a dictionary where all items in the keyslist will be the key and the items in the valueslist will be the value\n",
        "\n",
        "  --------------------------------\n",
        "\n",
        "  **Expected output:**\n",
        "\n",
        "  {'001': 'RED', '002': 'BLUE', '003': 'GREEN'}\n",
        "\n",
        "  Note: The order does not matter"
      ],
      "metadata": {
        "id": "Vz-lu0jbIVfi"
      }
    },
    {
      "cell_type": "code",
      "source": [
        "# put your answer here"
      ],
      "metadata": {
        "id": "mqxbbzNfIUJ6"
      },
      "execution_count": 51,
      "outputs": []
    },
    {
      "cell_type": "markdown",
      "source": [
        "2. Merge the two dictionaries below into a single dictionary\n",
        "\n",
        "  dict1 = {'001': 'A', '002': 'B', '003': 'C'}\n",
        "\n",
        "  dict2 = {'004': 'D', '005': 'E', '006': 'F'}\n",
        "\n",
        "  --------------------------------\n",
        "\n",
        "  **Expected output:**\n",
        "\n",
        "  {'001': 'A', '002': 'B', '003': 'C', '004': 'D', '005': 'E', '006': 'F'}\n",
        "\n",
        "  Note: The order does not matter\n",
        "\n"
      ],
      "metadata": {
        "id": "syCyjMMQJtYt"
      }
    },
    {
      "cell_type": "code",
      "source": [
        "# put your answer here"
      ],
      "metadata": {
        "id": "1cm1ta7pKTTL"
      },
      "execution_count": null,
      "outputs": []
    },
    {
      "cell_type": "markdown",
      "source": [
        "3. Given this dictionary\n",
        "\n",
        "    dict1 = {\n",
        "    \"name\": \"elizer\",\n",
        "    \"age\": 25,\n",
        "    \"surname\": \"ponio\",\n",
        "    \"city\": \"manila\"}\n",
        "\n",
        "  Create a new dictionary that will only contain elements extracted using the name and surname keys.\n",
        "\n",
        "  --------------------------------\n",
        "\n",
        "  **Expected output:**\n",
        "\n",
        "  {'name': 'elizer', 'surname': ponio}\n",
        "\n",
        "  Note: The order does not matter"
      ],
      "metadata": {
        "id": "zgtELDVGKPs6"
      }
    },
    {
      "cell_type": "code",
      "source": [
        "# put your answer here"
      ],
      "metadata": {
        "id": "CCFaPPdfKOhJ"
      },
      "execution_count": null,
      "outputs": []
    },
    {
      "cell_type": "markdown",
      "source": [
        "4. Given this dictionary\n",
        "\n",
        "    dict1 = {\n",
        "    \"name\": \"elizer\",\n",
        "    \"age\": 25,\n",
        "    \"surname\": \"ponio\",\n",
        "    \"city\": \"New york\"}\n",
        "\n",
        "  Check if the value \"ponio\" is present in the dictionary\n",
        "\n",
        "  --------------------------------\n",
        "\n",
        "  **Expected output:**\n",
        "\n",
        "  \"ponio\" exists in the dictionary\n",
        "\n",
        "  Note: The order does not matter"
      ],
      "metadata": {
        "id": "4dAHmssXKOyX"
      }
    },
    {
      "cell_type": "code",
      "source": [
        "# put your answer here"
      ],
      "metadata": {
        "id": "vE5z05MILtDX"
      },
      "execution_count": null,
      "outputs": []
    },
    {
      "cell_type": "markdown",
      "source": [
        "5. Given this dictionary\n",
        "\n",
        "    dict1 = {\n",
        "    \"name\": \"elizer\",\n",
        "    \"age\": 25,\n",
        "    \"surname\": \"ponio\",\n",
        "    \"city\": \"manila\"}\n",
        "\n",
        "  Rename the key \"name\" to \"firstname\"\n",
        "\n",
        "  --------------------------------\n",
        "\n",
        "  **Expected output:**\n",
        "\n",
        "    {\n",
        "    \"firstname\": \"elizer\",\n",
        "    \"age\": 25,\n",
        "    \"surname\": \"ponio\",\n",
        "    \"city\": \"manila\"}\n",
        "\n",
        "  Note: The order does not matter"
      ],
      "metadata": {
        "id": "Diz40L2uLq9c"
      }
    },
    {
      "cell_type": "code",
      "source": [
        "# put your answer here"
      ],
      "metadata": {
        "id": "6V5oEAGGLQrO"
      },
      "execution_count": null,
      "outputs": []
    }
  ]
}