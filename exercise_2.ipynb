{
  "cells": [
    {
      "cell_type": "markdown",
      "metadata": {
        "id": "view-in-github",
        "colab_type": "text"
      },
      "source": [
        "<a href=\"https://colab.research.google.com/github/robitussin/CCDATS1L_EXERCISES/blob/main/exercise_2.ipynb\" target=\"_parent\"><img src=\"https://colab.research.google.com/assets/colab-badge.svg\" alt=\"Open In Colab\"/></a>"
      ]
    },
    {
      "cell_type": "markdown",
      "metadata": {
        "id": "4HRpOy-cXqLL"
      },
      "source": [
        "# Exercise 2\n",
        "\n",
        "**Instructions:**\n",
        "1. Do not remove the pre defined codes\n",
        "2. Do not remove and the instructions in each number.\n",
        "3. Put your answer in the designated cell after each instruction."
      ]
    },
    {
      "cell_type": "markdown",
      "metadata": {
        "id": "TwLlM93FXqLO"
      },
      "source": [
        "## Pre defines codes"
      ]
    },
    {
      "cell_type": "code",
      "execution_count": null,
      "metadata": {
        "id": "3E3_9lSQXqLO"
      },
      "outputs": [],
      "source": [
        "%pip install -U scikit-learn"
      ]
    },
    {
      "cell_type": "code",
      "execution_count": null,
      "metadata": {
        "id": "gAi1ZYS1XqLP"
      },
      "outputs": [],
      "source": [
        "import numpy as np\n",
        "import pandas as pd\n",
        "import sklearn\n",
        "import sqlite3\n",
        "from sklearn import datasets"
      ]
    },
    {
      "cell_type": "code",
      "execution_count": null,
      "metadata": {
        "id": "16cjipwxXqLP"
      },
      "outputs": [],
      "source": [
        "dataset = datasets.load_breast_cancer(as_frame=True)"
      ]
    },
    {
      "cell_type": "code",
      "execution_count": null,
      "metadata": {
        "id": "wN57T9AtXqLQ"
      },
      "outputs": [],
      "source": [
        "df = dataset[\"frame\"]"
      ]
    },
    {
      "cell_type": "markdown",
      "metadata": {
        "id": "GwI-udw8XqLQ"
      },
      "source": [
        "## Pandas, Numpy and SQLite"
      ]
    },
    {
      "cell_type": "markdown",
      "metadata": {
        "id": "5rbkKanIXqLQ"
      },
      "source": [
        "1. Use the correct built-in python function to find out what type of variable **\"df\"** is"
      ]
    },
    {
      "cell_type": "code",
      "execution_count": null,
      "metadata": {
        "id": "_2W5IjxZXqLQ"
      },
      "outputs": [],
      "source": [
        "# put your answer here"
      ]
    },
    {
      "cell_type": "markdown",
      "metadata": {
        "id": "lH1q2MTeXqLR"
      },
      "source": [
        "2. Use the correct Pandas method to **print the entire content of the dataframe**"
      ]
    },
    {
      "cell_type": "code",
      "execution_count": null,
      "metadata": {
        "id": "0-yKOKEbXqLR"
      },
      "outputs": [],
      "source": [
        "# put your answer here"
      ]
    },
    {
      "cell_type": "markdown",
      "metadata": {
        "id": "VxCEDdmdXqLR"
      },
      "source": [
        "3. Use the correct Pandas method to **print the first 10 rows of the dataframe**"
      ]
    },
    {
      "cell_type": "code",
      "execution_count": null,
      "metadata": {
        "id": "9xl-35wRXqLR"
      },
      "outputs": [],
      "source": [
        "# put your answer here"
      ]
    },
    {
      "cell_type": "markdown",
      "metadata": {
        "id": "H7EXxeGlXqLS"
      },
      "source": [
        "4. Use the correct Pandas method to **print the last 10 rows of the dataframe**"
      ]
    },
    {
      "cell_type": "code",
      "execution_count": null,
      "metadata": {
        "id": "PKL1YFAYXqLS"
      },
      "outputs": [],
      "source": [
        "# put your answer here"
      ]
    },
    {
      "cell_type": "markdown",
      "metadata": {
        "id": "YyDW1X5gXqLS"
      },
      "source": [
        "5. Use the correct Pandas method to display the **general information** about the dataframe"
      ]
    },
    {
      "cell_type": "code",
      "execution_count": null,
      "metadata": {
        "id": "EHL3LPD4XqLS"
      },
      "outputs": [],
      "source": [
        "# put your answer here"
      ]
    },
    {
      "cell_type": "markdown",
      "metadata": {
        "id": "vv6D9bWMXqLS"
      },
      "source": [
        "6. Use the **value_counts()** Pandas method to check how many rows are there for each class label"
      ]
    },
    {
      "cell_type": "code",
      "execution_count": null,
      "metadata": {
        "id": "tBchrdk8XqLS"
      },
      "outputs": [],
      "source": [
        "# put your answer here"
      ]
    },
    {
      "cell_type": "markdown",
      "metadata": {
        "id": "gLL-Vl0gXqLS"
      },
      "source": [
        "7. Create a two new dataframes:\n",
        "\n",
        "- Name the first dataframe **\"malignant\"** that will contain all rows with a target value of **0**\n",
        "- Name the second dataframe **\"benign\"** that will contain all rows with a target value of **1**"
      ]
    },
    {
      "cell_type": "code",
      "execution_count": null,
      "metadata": {
        "id": "KIdte3N6XqLS"
      },
      "outputs": [],
      "source": [
        "# put your answer here"
      ]
    },
    {
      "cell_type": "markdown",
      "metadata": {
        "id": "LJtLLl9MXqLS"
      },
      "source": [
        "8. Use the correct Pandas method to return the **row at index 100**  of the dataframe"
      ]
    },
    {
      "cell_type": "code",
      "execution_count": null,
      "metadata": {
        "id": "QMcxAQpXXqLT"
      },
      "outputs": [],
      "source": [
        "# put your answer here"
      ]
    },
    {
      "cell_type": "markdown",
      "metadata": {
        "id": "85OAlgmiXqLT"
      },
      "source": [
        "8. Use the correct Pandas method to return the **row at index 100 and 101**  of the dataframe"
      ]
    },
    {
      "cell_type": "code",
      "execution_count": null,
      "metadata": {
        "id": "SOy80IR9XqLT"
      },
      "outputs": [],
      "source": [
        "# put your answer here"
      ]
    },
    {
      "cell_type": "markdown",
      "metadata": {
        "id": "1nCOiRdWXqLT"
      },
      "source": [
        "9. Convert the row at index 100 to a **numpy array**\n",
        "\n",
        "- Name the array **row_100**"
      ]
    },
    {
      "cell_type": "code",
      "execution_count": null,
      "metadata": {
        "id": "-ktg2UnnXqLT"
      },
      "outputs": [],
      "source": [
        "# put your answer here"
      ]
    },
    {
      "cell_type": "markdown",
      "metadata": {
        "id": "1Eyqp9DMXqLT"
      },
      "source": [
        "10. Use the **.connect()** method to create a new database named **test.db**"
      ]
    },
    {
      "cell_type": "code",
      "execution_count": null,
      "metadata": {
        "id": "lrOIGCdAXqLT"
      },
      "outputs": [],
      "source": [
        "# put your answer here"
      ]
    },
    {
      "cell_type": "markdown",
      "metadata": {
        "id": "A790tye2XqLT"
      },
      "source": [
        "11. Use the **.to_sql()** method to create a **breast_cancer_table** in the **test.db** database"
      ]
    },
    {
      "cell_type": "code",
      "execution_count": null,
      "metadata": {
        "id": "cC1uZY5EXqLT"
      },
      "outputs": [],
      "source": [
        "# put your answer here"
      ]
    },
    {
      "cell_type": "markdown",
      "metadata": {
        "id": "E3c1-IGcXqLT"
      },
      "source": [
        "12. Using the Pandas **read_sql_query()** method,\n",
        "\n",
        "- Select all records with a target value of 0.\n",
        "\n",
        "- Put the results in a new dataframe called **extracted_from_database** and its contents"
      ]
    },
    {
      "cell_type": "code",
      "execution_count": null,
      "metadata": {
        "id": "KJ4s7EGxXqLU"
      },
      "outputs": [],
      "source": [
        "# put your answer here"
      ]
    }
  ],
  "metadata": {
    "kernelspec": {
      "display_name": "Python 3",
      "language": "python",
      "name": "python3"
    },
    "language_info": {
      "codemirror_mode": {
        "name": "ipython",
        "version": 3
      },
      "file_extension": ".py",
      "mimetype": "text/x-python",
      "name": "python",
      "nbconvert_exporter": "python",
      "pygments_lexer": "ipython3",
      "version": "3.9.13"
    },
    "orig_nbformat": 4,
    "colab": {
      "provenance": [],
      "include_colab_link": true
    }
  },
  "nbformat": 4,
  "nbformat_minor": 0
}